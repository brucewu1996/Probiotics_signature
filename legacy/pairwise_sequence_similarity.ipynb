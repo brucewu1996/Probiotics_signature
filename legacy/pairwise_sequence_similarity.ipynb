{
 "cells": [
  {
   "cell_type": "code",
   "execution_count": null,
   "metadata": {},
   "outputs": [],
   "source": [
    "from Bio import SeqIO\n",
    "from Bio import Align\n",
    "from Bio import pairwise2 as pw2\n",
    "import numpy as np\n",
    "import pandas as pd"
   ]
  },
  {
   "cell_type": "code",
   "execution_count": null,
   "metadata": {},
   "outputs": [],
   "source": [
    "def pairwise_seq_similarity(fasta1,fasta2) :\n",
    "    #read fasta file\n",
    "    seq1 = SeqIO.read(fasta1, \"fasta\").seq\n",
    "    seq2 = SeqIO.read(fasta2, \"fasta\").seq\n",
    "\n",
    "    match = 2\n",
    "    mismatch = -1\n",
    "    gap_open = -10\n",
    "    gap_extend = -0.5\n",
    "\n",
    "    aligner = Align.PairwiseAligner()\n",
    "    aligner.open_gap_score = gap_open\n",
    "    aligner.extend_gap_score = gap_extend\n",
    "    aligner.mode= 'global'\n",
    "    align_result =  aligner.align(seq1, seq2)\n",
    "        \n",
    "    return align_result[0].score"
   ]
  },
  {
   "cell_type": "code",
   "execution_count": null,
   "metadata": {},
   "outputs": [],
   "source": [
    "seq_path = '/home/bruce1996/data/MCI/manuscript_v3/supplement/subtype/exist_lacto/'\n",
    "query_seq = seq_path + 'Lactobacillus_paragasseri.fa'\n",
    "seq_list = os.listdir(seq_path)\n",
    "sim_score = np.zeros(len(seq_list))\n",
    "\n",
    "for idx,seq in enumerate(seq_list) :\n",
    "    print(\"Calculate pairwise similirity of %d st sequence : %s\" % (idx,seq))\n",
    "    sim_score[idx] = pairwise_seq_similarity(query_seq,seq_path + seq)\n",
    "\n",
    "score_df = pd.DataFrame({'Score' : sim_score},index=[x.replace('.fa','') for x in seq_list])\n",
    "score_df.to_csv('/home/bruce1996/data/MCI/manuscript_v3/supplement/sim_score_against_paragasseri.txt',sep='\\t')"
   ]
  },
  {
   "cell_type": "code",
   "execution_count": null,
   "metadata": {},
   "outputs": [],
   "source": [
    "paragasseri = pd.read_csv('/home/bruce1996/data/MCI/manuscript_v3/supplement/sim_score_against_paragasseri.txt',sep='\\t',index_col=0)\n",
    "rogosae = pd.read_csv('/home/bruce1996/data/MCI/manuscript_v3/supplement/sim_score_against_rogosae.txt',sep='\\t',index_col=0)\n",
    "\n",
    "score_df = pd.concat([paragasseri,rogosae],axis=1)\n",
    "score_df.columns = [\"Lactobacillus_paragasseri\",\"Lactobacillus_rogosae\"]\n",
    "score_df = score_df.sort_values(by=[\"Lactobacillus_paragasseri\",\"Lactobacillus_rogosae\"],ascending=False)\n",
    "\n",
    "plt.figure(figsize=(7,10))\n",
    "sns.heatmap(score_df,linewidths=.5,cmap='YlGnBu',annot=True,fmt='g')\n",
    "plt.xticks(rotation=0)\n",
    "plt.savefig('/home/bruce1996/data/MCI/manuscript_v3/supplement/sim_score_heatmap.png',dpi=300,format='png',bbox_inches='tight')"
   ]
  }
 ],
 "metadata": {
  "language_info": {
   "name": "python"
  },
  "orig_nbformat": 4
 },
 "nbformat": 4,
 "nbformat_minor": 2
}
