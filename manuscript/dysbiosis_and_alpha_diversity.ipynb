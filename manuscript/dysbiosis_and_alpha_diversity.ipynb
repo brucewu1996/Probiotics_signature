{
 "cells": [
  {
   "cell_type": "code",
   "execution_count": 1,
   "metadata": {},
   "outputs": [],
   "source": [
    "import pandas as pd\n",
    "import numpy as np\n",
    "import skbio"
   ]
  },
  {
   "cell_type": "code",
   "execution_count": 3,
   "metadata": {},
   "outputs": [],
   "source": [
    "mci_consensus_cluster = pd.read_csv(\"/home/bruce1996/data/MCI/manuscript_v3.3/mci/consensus_clustering/consensus_clustering_label_4cluster.txt\",sep='\\t')\n",
    "normal_consensus_cluster = pd.read_csv(\"/home/bruce1996/data/MCI/manuscript_v3.3/normal/consensus_clustering/consensus_clustering_label_4cluster.txt\",sep='\\t')"
   ]
  },
  {
   "attachments": {},
   "cell_type": "markdown",
   "metadata": {},
   "source": [
    "### alpha diversity"
   ]
  },
  {
   "cell_type": "code",
   "execution_count": 4,
   "metadata": {},
   "outputs": [],
   "source": [
    "class alpha_diversity :\n",
    "    def __init__(self,abundance_table,method_list) :\n",
    "        if isinstance(abundance_table,pd.DataFrame) == False :\n",
    "            raise TypeError(\"Abundance table must be pandas dataframe !\")\n",
    "        if isinstance(method_list,list) == False :\n",
    "            raise TypeError(\"Method list must be list contain str like ['Chao1','ACE','Fisher','Simpson']!\")\n",
    "        self.abundance_table = abundance_table\n",
    "        self.sample = abundance_table.columns\n",
    "        self.method = method_list\n",
    "        self.alpha_diversity = np.zeros([len(self.sample),len(method_list)])\n",
    "\n",
    "    def calculate_alpha_diversity(self,method) :\n",
    "        alpha_diversity = np.zeros(len(self.sample))\n",
    "        for idx in range(len(self.sample)) :\n",
    "            if method == 'Shannon' :\n",
    "                alpha_diversity[idx] = skbio.diversity.alpha.shannon(self.abundance_table.iloc[:,idx].values) # type: ignore\n",
    "            elif method == 'Simpson' :\n",
    "                alpha_diversity[idx] = skbio.diversity.alpha.simpson(self.abundance_table.iloc[:,idx].values) # type: ignore\n",
    "            elif method == 'Fisher' :\n",
    "                alpha_diversity[idx] = skbio.diversity.alpha.fisher_alpha(self.abundance_table.iloc[:,idx].values) # type: ignore\n",
    "            elif method == 'Chao1' :\n",
    "                alpha_diversity[idx] = skbio.diversity.alpha.chao1(self.abundance_table.iloc[:,idx].values) # type: ignore\n",
    "            elif method == 'ACE' :\n",
    "                alpha_diversity[idx] = skbio.diversity.alpha.ace(self.abundance_table.iloc[:,idx].values) # type: ignore\n",
    "        return alpha_diversity\n",
    "    \n",
    "    def calculate_alpha(self) :\n",
    "        for idx,method in enumerate(self.method) :\n",
    "            self.alpha_diversity[:,idx] = self.calculate_alpha_diversity(method)\n",
    "        alpha_df = pd.DataFrame(self.alpha_diversity,index=self.sample,columns=self.method)\n",
    "        return alpha_df"
   ]
  },
  {
   "cell_type": "code",
   "execution_count": 5,
   "metadata": {},
   "outputs": [],
   "source": [
    "metaphlan = pd.read_csv(\"/home/bruce1996/data/MCI/metaphlan_result/metaphlan_format_table.txt\",sep='\\t',index_col=0)\n",
    "metadata = pd.read_excel(\"/home/bruce1996/data/MCI/metadata/TPMIC_Diagnosis_297_KCF_0704.xlsx\",index_col=0)\n",
    "metaphlan = metaphlan * 10 ** 6 \n",
    "for c in metaphlan.columns :\n",
    "    metaphlan[c] = metaphlan[c].fillna(0.0).astype(int)"
   ]
  },
  {
   "cell_type": "code",
   "execution_count": 6,
   "metadata": {},
   "outputs": [],
   "source": [
    "import re\n",
    "probiotic_idx = [bool(re.search(\"Lactobacillus|Bifidobacterium\",x)) for x in metaphlan.index]\n",
    "probiotic_matrix = metaphlan.loc[probiotic_idx,:]"
   ]
  },
  {
   "attachments": {},
   "cell_type": "markdown",
   "metadata": {},
   "source": [
    "### visualization of alpha diversity"
   ]
  },
  {
   "cell_type": "code",
   "execution_count": 7,
   "metadata": {},
   "outputs": [],
   "source": [
    "import matplotlib.pyplot as plt\n",
    "import seaborn as sns\n",
    "from scipy.stats import ranksums"
   ]
  },
  {
   "cell_type": "code",
   "execution_count": 8,
   "metadata": {},
   "outputs": [
    {
     "name": "stderr",
     "output_type": "stream",
     "text": [
      "/home/bruce1996/anaconda3/lib/python3.9/site-packages/skbio/diversity/alpha/_base.py:869: RuntimeWarning: invalid value encountered in true_divide\n",
      "  freqs = counts / counts.sum()\n",
      "/home/bruce1996/anaconda3/lib/python3.9/site-packages/skbio/diversity/alpha/_base.py:138: RuntimeWarning: invalid value encountered in true_divide\n",
      "  freqs = counts / counts.sum()\n"
     ]
    }
   ],
   "source": [
    "meta_alpha = alpha_diversity(probiotic_matrix,method_list=['Shannon','Simpson','Fisher','Chao1'])\n",
    "alpha_df = meta_alpha.calculate_alpha()\n",
    "alpha_df.to_csv(\"/home/bruce1996/data/MCI/manuscript_v3.3/supplement/alpha_diversity/alpha_diversity_measurement.txt\",sep='\\t')"
   ]
  },
  {
   "cell_type": "code",
   "execution_count": 9,
   "metadata": {},
   "outputs": [],
   "source": [
    "mci_alpha = pd.concat([alpha_df.loc[mci_consensus_cluster.index,:],mci_consensus_cluster],axis=1).melt(id_vars='cluster')\n",
    "mci_alpha.columns = [\"Cluster\",'Measurement','value']\n",
    "normal_alpha = pd.concat([alpha_df.loc[normal_consensus_cluster.index,:],normal_consensus_cluster],axis=1).melt(id_vars='cluster')\n",
    "normal_alpha.columns = [\"Cluster\",'Measurement','value']"
   ]
  },
  {
   "cell_type": "code",
   "execution_count": 10,
   "metadata": {},
   "outputs": [
    {
     "name": "stderr",
     "output_type": "stream",
     "text": [
      "/home/bruce1996/anaconda3/lib/python3.9/site-packages/scipy/stats/stats.py:7784: RuntimeWarning: invalid value encountered in double_scalars\n",
      "  z = (s - expected) / np.sqrt(n1*n2*(n1+n2+1)/12.0)\n"
     ]
    }
   ],
   "source": [
    "#Calculate significant for each cluster pair\n",
    "measure_dict = {}\n",
    "alpha_diversity_df = mci_alpha\n",
    "for measure in ['Shannon','Simpson','Fisher','Chao1','ACE'] :\n",
    "    measure_dict[measure] = []\n",
    "    for i in range(1,5) :\n",
    "        for j in range(i,5) :\n",
    "            c1_idx = np.where((alpha_diversity_df['Measurement'] == measure) & (alpha_diversity_df['Cluster'] == i),True,False)\n",
    "            m_c1 = alpha_diversity_df.loc[c1_idx,\"value\"].values\n",
    "            c2_idx = np.where((alpha_diversity_df['Measurement'] == measure) & (alpha_diversity_df['Cluster'] == j),True,False)\n",
    "            m_c2 = alpha_diversity_df.loc[c2_idx,\"value\"].values\n",
    "            pval = ranksums(m_c1,m_c2)[1]\n",
    "            if pval < 0.05 :\n",
    "                measure_dict[measure].append( (i,j,round(pval,4)))"
   ]
  },
  {
   "cell_type": "code",
   "execution_count": 14,
   "metadata": {},
   "outputs": [
    {
     "data": {
      "image/png": "[encoded data removed]",
      "text/plain": [
       "<Figure size 1440x360 with 4 Axes>"
      ]
     },
     "metadata": {
      "needs_background": "light"
     },
     "output_type": "display_data"
    }
   ],
   "source": [
    "fig, axes = plt.subplots(1, 4,figsize=(20,5))\n",
    "anno_xaxis = {1:-0.3,2:-0.1,3:0.1,4:0.3}\n",
    "alpha_diversity_df = mci_alpha\n",
    "measurements = ['Shannon','Simpson','Fisher','Chao1']\n",
    "for idx,ax in enumerate(axes.ravel()) :\n",
    "    plot_df = alpha_diversity_df.loc[alpha_diversity_df['Measurement'] == measurements[idx],:]\n",
    "    axs = sns.boxplot(data=plot_df,x='Measurement',y='value',hue='Cluster',palette=\"Set2\",ax=ax,showfliers=False)\n",
    "    if measure_dict[measurements[idx]] != [] :\n",
    "        if plot_df['value'].max() > plot_df['value'].median() * 2.5 :\n",
    "            y = plot_df['value'].median() * 2\n",
    "        else :\n",
    "            y = plot_df['value'].max() * 0.95\n",
    "\n",
    "        col = 'k'\n",
    "        gap = y * 0.07\n",
    "        for c1,c2,pval in measure_dict[measurements[idx]] :\n",
    "            y += gap\n",
    "            c1_x,c2_x = anno_xaxis[c1],anno_xaxis[c2]\n",
    "            xaxis = (c1_x+c2_x) / 2\n",
    "            axs.plot([c1_x, c1_x, c2_x, c2_x], [y, y*1.02, y*1.02, y], lw=1.5, c=col)\n",
    "            axs.text(xaxis, y*1.03, str(pval), ha='center', va='bottom', color=col)\n",
    "    axs.set_title(\"%s\" % measurements[idx])\n",
    "    axs.set(xlabel=None)\n",
    "    axs.set(ylabel=None)\n",
    "plt.tight_layout()\n",
    "plt.savefig(\"/home/bruce1996/data/MCI/manuscript_v3.3/supplement/alpha_diversity/mci_alpha_diversity_boxplot.pdf\",format='pdf',dpi=300,bbox_inches='tight')\n"
   ]
  },
  {
   "attachments": {},
   "cell_type": "markdown",
   "metadata": {},
   "source": [
    "### Relevant taxon-based methods\n",
    "\n",
    "Pesudo code of relevant taxon-based methods :\n",
    "1. Define enriched & depleted taxonomy in reference sample set and target sample set (via LefSe)\n",
    "2. Calculate dysbiosis index by following equalation :\n",
    "$$\\mathrm{DysbiosisIndex} = \\frac{\\sum_{i=1}^{n}{abundance(EnrichTaxa)_i}}{\\sum_{i=1}^{n}{abundance(DepletedTaxa)_i}}$$"
   ]
  },
  {
   "cell_type": "code",
   "execution_count": 6,
   "metadata": {},
   "outputs": [],
   "source": [
    "metaphlan = pd.read_csv(\"/home/bruce1996/data/MCI/metaphlan_result/metaphlan_format_table.txt\",sep='\\t',index_col=0)\n",
    "metadata = pd.read_csv(\"/home/bruce1996/data/MCI/metadata/metadata_20221224.csv\",sep=',',index_col=0)\n",
    "metaphlan = metaphlan.loc[:,metadata.index]"
   ]
  },
  {
   "cell_type": "code",
   "execution_count": 7,
   "metadata": {},
   "outputs": [],
   "source": [
    "lefse_res = pd.read_csv(\"/home/bruce1996/data/MCI/manuscript_v3/supplement/alpha_diversity/normal_mci_lefse.res\",sep='\\t',header=None,index_col=0)"
   ]
  },
  {
   "cell_type": "code",
   "execution_count": 8,
   "metadata": {},
   "outputs": [],
   "source": [
    "lefse_res.columns = ['wilconox','class','LDA_score','kw']# type: ignore\n",
    "lefse_res = lefse_res.fillna(-1)\n",
    "selected_species = list(lefse_res.index[lefse_res['LDA_score'] != -1])"
   ]
  },
  {
   "cell_type": "code",
   "execution_count": 9,
   "metadata": {},
   "outputs": [],
   "source": [
    "depleted_taxa = ['s__Parabacteroides_distasonis']\n",
    "enriched_taxa = selected_species[:]\n",
    "enriched_taxa.remove('s__Parabacteroides_distasonis')"
   ]
  },
  {
   "cell_type": "code",
   "execution_count": 10,
   "metadata": {},
   "outputs": [],
   "source": [
    "dysbiosis_score = metaphlan.loc[enriched_taxa,:].sum() / metaphlan.loc[depleted_taxa,:].sum()"
   ]
  },
  {
   "attachments": {},
   "cell_type": "markdown",
   "metadata": {},
   "source": [
    "### Neighborhood classification\n",
    "Pesudo code of Neighborhood classification :\n",
    "1. Calculate median Bray-Curtis distance between sample & reference sample set(normal).\n",
    "2. 90th percentile of dysbiosis score in reference sample set is threshold for dysbiosis."
   ]
  },
  {
   "cell_type": "code",
   "execution_count": 103,
   "metadata": {},
   "outputs": [],
   "source": [
    "from skbio.diversity import beta_diversity"
   ]
  },
  {
   "cell_type": "code",
   "execution_count": 104,
   "metadata": {},
   "outputs": [],
   "source": [
    "def dysbiosis_score_by_neighborhood(abundance_table,label_series,reference_prefix='Normal') :\n",
    "    '''\n",
    "    abundance_table : pd.DataFrame, row is taxa , columns is sample\n",
    "    label_series : pd.Series\n",
    "    reference_prefix : str, represent reference in label_series\n",
    "    '''\n",
    "    abundance_table = abundance_table.loc[:,label_series.index]\n",
    "    bray_curtis_dis = beta_diversity(\"braycurtis\", abundance_table.T, list(abundance_table.columns))\n",
    "    reference_idx = np.where(label_series == reference_prefix,True,False)\n",
    "    #calculate each sample median Bray-Curtis distance to reference sample set\n",
    "    bray_curtis_median = np.zeros(abundance_table.shape[1])\n",
    "    for sample_idx,sample in enumerate(abundance_table.columns) :\n",
    "        bray_curtis_median[sample_idx] = np.median(bray_curtis_dis[sample][reference_idx])\n",
    "    #Normalize Bray-Curtis distance median by threshold, threhold = 1 other = original_score / threshold\n",
    "    threshold = np.percentile(bray_curtis_median[reference_idx],90)\n",
    "    dysbiosis_score = bray_curtis_median / threshold\n",
    "    return dysbiosis_score\n"
   ]
  },
  {
   "cell_type": "code",
   "execution_count": 113,
   "metadata": {},
   "outputs": [],
   "source": [
    "dysbiosis_score_neighbor = dysbiosis_score_by_neighborhood(metaphlan.loc[:,metadata.index],metadata['Diagnosis'])\n",
    "dysbiosis_score_neighbor = pd.Series(dysbiosis_score_neighbor,index=metadata.index)"
   ]
  },
  {
   "attachments": {},
   "cell_type": "markdown",
   "metadata": {},
   "source": [
    "### Combined alpha and beta diversity\n",
    "Pesudo code for combined alpha and beta diversity\n",
    "1. Calculate shannon index and jensenshannon divergence.\n",
    "2. Dysbiosis index is defined by following equation :\n",
    "$$\\mathrm{DysbiosisIndex} = {(AverageShannonIndexDifference)_i} \\times {(AverageJensenShannonDivergence)_i}"
   ]
  },
  {
   "cell_type": "code",
   "execution_count": 108,
   "metadata": {},
   "outputs": [],
   "source": [
    "from scipy.spatial import distance"
   ]
  },
  {
   "cell_type": "code",
   "execution_count": 109,
   "metadata": {},
   "outputs": [],
   "source": [
    "def alpha_beta_dysbiosis_score(abundance_table,label_series,reference_prefix='Normal') :\n",
    "    '''\n",
    "    abundance_table : pd.DataFrame, metaphlan formated output\n",
    "    metadata : pd.Series, clinical information of samples\n",
    "    reference_prefix : str, represent sample is reference\n",
    "    '''\n",
    "    target_sample = list(metadata.index[label_series != reference_prefix])\n",
    "    normal_sample = list(metadata.index[label_series == reference_prefix])\n",
    "    shannon = np.zeros(abundance_table.shape[1])\n",
    "    #calculate shannon index for all sample\n",
    "    for idx in range(abundance_table.shape[1]) :\n",
    "        shannon[idx] = skbio.diversity.alpha.shannon(abundance_table.iloc[:,idx].values) # type: ignore\n",
    "    shannon_difference = np.zeros(len(target_sample))\n",
    "    #calculate average shannon index difference between sample & reference sample set\n",
    "    shannon = pd.Series(shannon,index=abundance_table.columns)\n",
    "    for shannon_idx,sample in enumerate(target_sample) :\n",
    "        shannon_array = np.zeros(len(normal_sample))\n",
    "        for idx,reference in enumerate(normal_sample) :\n",
    "            shannon_array[idx] = abs(shannon[sample] - shannon[reference])\n",
    "        shannon_difference[shannon_idx] = np.mean(shannon_array)\n",
    "    #calculate jensen shannon divergence of target sample\n",
    "    target_jsd = np.zeros(len(target_sample))\n",
    "    for jsd_idx,sample in enumerate(target_sample) :\n",
    "        jsd_array = np.zeros(len(normal_sample))\n",
    "        for idx,reference in enumerate(normal_sample) :\n",
    "            target_val = metaphlan.loc[:,sample].values\n",
    "            ref_val = metaphlan.loc[:,reference].values\n",
    "            jsd_array[idx] = distance.jensenshannon(target_val,ref_val) ** 2\n",
    "        target_jsd[jsd_idx] = np.mean(jsd_array)\n",
    "    \n",
    "    dysbiosis_score = shannon_difference * target_jsd\n",
    "    return dysbiosis_score\n"
   ]
  },
  {
   "cell_type": "code",
   "execution_count": 121,
   "metadata": {},
   "outputs": [],
   "source": [
    "dysbiosis_combination = alpha_beta_dysbiosis_score(metaphlan,metadata['Diagnosis'])\n",
    "target_sample = list(metadata.index[metadata['Diagnosis'] != 'Normal'])\n",
    "dysbiosis_combination = pd.Series(dysbiosis_combination,index=target_sample)"
   ]
  },
  {
   "attachments": {},
   "cell_type": "markdown",
   "metadata": {},
   "source": [
    "### Dysbiosis score between cluster"
   ]
  },
  {
   "cell_type": "code",
   "execution_count": null,
   "metadata": {},
   "outputs": [],
   "source": [
    "import matplotlib.pyplot as plt\n",
    "import seaborn as sns\n",
    "from scipy.stats import ranksums"
   ]
  },
  {
   "cell_type": "code",
   "execution_count": null,
   "metadata": {},
   "outputs": [],
   "source": [
    "mci_consensus_cluster = pd.read_csv(\"/home/bruce1996/data/MCI/manuscript_v3/MCI/consensus/mixed_clustering_without_rogosae.txt\",sep='\\t')\n",
    "\n",
    "dysbiosis_score_df = pd.DataFrame({'Relavent_taxa' : dysbiosis_score[target_sample],\n",
    "                                   \"Neighborhood_classification\" : dysbiosis_score_neighbor[target_sample],\n",
    "                                   \"Alpha_beta_combination\" : dysbiosis_combination})\n",
    "dysbiosis_score_df['Cluster'] = mci_consensus_cluster['cluster'][target_sample]"
   ]
  },
  {
   "cell_type": "code",
   "execution_count": 133,
   "metadata": {},
   "outputs": [],
   "source": [
    "dysbiosis_score_melt = dysbiosis_score_df.melt(id_vars='Cluster')\n",
    "dysbiosis_score_melt.columns = [\"Cluster\",\"Measurement\",\"value\"]"
   ]
  },
  {
   "cell_type": "code",
   "execution_count": 138,
   "metadata": {},
   "outputs": [],
   "source": [
    "#Calculate significant for each cluster pair\n",
    "dysbiosis_score_melt = dysbiosis_score_df.melt(id_vars='Cluster')\n",
    "dysbiosis_score_melt.columns = [\"Cluster\",\"Measurement\",\"value\"]\n",
    "\n",
    "\n",
    "measure_dict = {}\n",
    "alpha_diversity_df = dysbiosis_score_melt\n",
    "measurement = list(dysbiosis_score_df.columns)\n",
    "measurement.remove(\"Cluster\")\n",
    "for measure in measurement :\n",
    "    measure_dict[measure] = []\n",
    "    for i in range(1,5) :\n",
    "        for j in range(i,5) :\n",
    "            c1_idx = np.where((alpha_diversity_df['Measurement'] == measure) & (alpha_diversity_df['Cluster'] == i),True,False)\n",
    "            m_c1 = alpha_diversity_df.loc[c1_idx,\"value\"].values\n",
    "            c2_idx = np.where((alpha_diversity_df['Measurement'] == measure) & (alpha_diversity_df['Cluster'] == j),True,False)\n",
    "            m_c2 = alpha_diversity_df.loc[c2_idx,\"value\"].values\n",
    "            pval = ranksums(m_c1,m_c2)[1]\n",
    "            if pval < 0.1 :\n",
    "                measure_dict[measure].append( (i,j,round(pval,4)))\n"
   ]
  },
  {
   "cell_type": "code",
   "execution_count": 152,
   "metadata": {},
   "outputs": [
    {
     "data": {
      "image/png": "[encoded data removed]",
      "text/plain": [
       "<Figure size 864x360 with 3 Axes>"
      ]
     },
     "metadata": {
      "needs_background": "light"
     },
     "output_type": "display_data"
    }
   ],
   "source": [
    "fig, axes = plt.subplots(1, 3,figsize=(12,5))\n",
    "anno_xaxis = {1:-0.3,2:-0.1,3:0.1,4:0.3}\n",
    "alpha_diversity_df = dysbiosis_score_melt\n",
    "measurements = measurement\n",
    "for idx,ax in enumerate(axes.ravel()) :\n",
    "    plot_df = alpha_diversity_df.loc[alpha_diversity_df['Measurement'] == measurements[idx],:]\n",
    "    axs = sns.boxplot(data=plot_df,x='Measurement',y='value',hue='Cluster',palette=\"Set2\",ax=ax,showfliers=False)\n",
    "    if measure_dict[measurements[idx]] != [] :\n",
    "        y, col = plot_df['value'].max() * 0.92, 'k'\n",
    "        n = -1\n",
    "        for c1,c2,pval in measure_dict[measurements[idx]] :\n",
    "            n+=1\n",
    "            y *= (1.02 ** n)\n",
    "            c1_x,c2_x = anno_xaxis[c1],anno_xaxis[c2]\n",
    "            xaxis = (c1_x+c2_x) / 2\n",
    "            axs.plot([c1_x, c1_x, c2_x, c2_x], [y, y*1.01, y*1.01, y], lw=1.5, c=col)\n",
    "            axs.text(xaxis, y*1.01, str(pval), ha='center', va='bottom', color=col)\n",
    "    axs.set_title(\"%s\" % measurements[idx])\n",
    "    axs.set(xlabel=None)\n",
    "plt.tight_layout()\n",
    "plt.savefig(\"/home/bruce1996/data/MCI/manuscript_v3/MCI/alpha_diversity/dysbiosis_score_boxplot.png\",dpi=300,bbox_inches='tight')\n"
   ]
  }
 ],
 "metadata": {
  "kernelspec": {
   "display_name": "base",
   "language": "python",
   "name": "python3"
  },
  "language_info": {
   "codemirror_mode": {
    "name": "ipython",
    "version": 3
   },
   "file_extension": ".py",
   "mimetype": "text/x-python",
   "name": "python",
   "nbconvert_exporter": "python",
   "pygments_lexer": "ipython3",
   "version": "3.9.7"
  },
  "orig_nbformat": 4
 },
 "nbformat": 4,
 "nbformat_minor": 2
}
