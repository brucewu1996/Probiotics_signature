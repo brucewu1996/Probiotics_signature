{
 "cells": [
  {
   "cell_type": "code",
   "execution_count": 4,
   "metadata": {},
   "outputs": [],
   "source": [
    "import pandas as pd \n",
    "import numpy as np \n",
    "import re, os"
   ]
  },
  {
   "cell_type": "code",
   "execution_count": 2,
   "metadata": {},
   "outputs": [],
   "source": [
    "metaphlan_table = pd.read_csv(\"/home/bruce1996/data/MCI/metaphlan_result/metaphlan_format_table.txt\",sep='\\t',index_col=0)"
   ]
  },
  {
   "cell_type": "code",
   "execution_count": 22,
   "metadata": {},
   "outputs": [],
   "source": [
    "condition = 'mci'\n",
    "consensus_label = pd.read_csv(\"/home/bruce1996/data/MCI/manuscript_v3.3/%s/consensus_clustering/consensus_clustering_label_4cluster.txt\" % condition,sep='\\t',index_col=0)\n",
    "lefse_input = pd.read_csv(\"/home/bruce1996/data/MCI/manuscript_v3.3/%s/lefse/lefse_5cluster_input.txt\" % condition,sep='\\t',index_col=0)\n",
    "lefse_input.drop(['cluster'],axis=0,inplace=True)\n",
    "lefse_df = pd.concat([consensus_label.T,lefse_input])\n",
    "lefse_df.to_csv(\"/home/bruce1996/data/MCI/manuscript_v3.3/%s/lefse/lefse_4cluster_input.txt\" % condition,sep='\\t')"
   ]
  },
  {
   "cell_type": "code",
   "execution_count": 17,
   "metadata": {},
   "outputs": [],
   "source": [
    "lefse_input.drop(['cluster'],axis=0,inplace=True)"
   ]
  },
  {
   "cell_type": "code",
   "execution_count": 23,
   "metadata": {},
   "outputs": [],
   "source": [
    "df = pd.read_csv(\"/home/bruce1996/data/MCI/manuscript_v3.3/supplement/lacto_and_subtype_pv_abundance.txt\",sep='\\t',index_col=0)"
   ]
  },
  {
   "cell_type": "code",
   "execution_count": 25,
   "metadata": {},
   "outputs": [
    {
     "data": {
      "text/plain": [
       "<bound method NDFrame.head of                                  TPMIC01002  TPMIC01004  TPMIC01005  \\\n",
       "cluster                                 1.0     1.00000     2.00000   \n",
       "Sex                                     0.0     0.00000     0.00000   \n",
       "s__Actinobaculum_massiliense            0.0     0.00000     0.00000   \n",
       "s__Actinobaculum_schaalii               0.0     0.00000     0.00000   \n",
       "s__Actinomyces_graevenitzii             0.0     0.00000     0.00000   \n",
       "...                                     ...         ...         ...   \n",
       "s__Stenotrophomonas_maltophilia         0.0     0.00000     0.00000   \n",
       "s__Brachyspira_pilosicoli               0.0     0.00000     0.00000   \n",
       "s__Pyramidobacter_piscolens             0.0     0.00000     0.00000   \n",
       "s__Synergistes_sp_3_1_syn1              0.0     0.00000     0.00000   \n",
       "s__Akkermansia_muciniphila              0.0     0.00059     6.46704   \n",
       "\n",
       "                                 TPMIC01006  TPMIC01007  TPMIC01008  \\\n",
       "cluster                             2.00000     1.00000     1.00000   \n",
       "Sex                                 0.00000     1.00000     1.00000   \n",
       "s__Actinobaculum_massiliense        0.00000     0.00000     0.00000   \n",
       "s__Actinobaculum_schaalii           0.00000     0.00000     0.00000   \n",
       "s__Actinomyces_graevenitzii         0.00000     0.00000     0.00000   \n",
       "...                                     ...         ...         ...   \n",
       "s__Stenotrophomonas_maltophilia     0.00000     0.00000     0.00000   \n",
       "s__Brachyspira_pilosicoli           0.00000     0.00000     0.00000   \n",
       "s__Pyramidobacter_piscolens         0.59445     0.00000     0.00000   \n",
       "s__Synergistes_sp_3_1_syn1          0.41463     0.00000     0.00000   \n",
       "s__Akkermansia_muciniphila          0.00000     0.10628     0.03489   \n",
       "\n",
       "                                 TPMIC01009  TPMIC01010  TPMIC01011  \\\n",
       "cluster                             1.00000     1.00000     3.00000   \n",
       "Sex                                 0.00000     1.00000     1.00000   \n",
       "s__Actinobaculum_massiliense        0.00000     0.00000     0.00000   \n",
       "s__Actinobaculum_schaalii           0.00000     0.00000     0.00000   \n",
       "s__Actinomyces_graevenitzii         0.00129     0.00000     0.00000   \n",
       "...                                     ...         ...         ...   \n",
       "s__Stenotrophomonas_maltophilia     0.00000     0.00000     0.00000   \n",
       "s__Brachyspira_pilosicoli           0.00000     0.00000     0.00000   \n",
       "s__Pyramidobacter_piscolens         3.23607     0.00000     0.00000   \n",
       "s__Synergistes_sp_3_1_syn1          0.00000     0.00000     0.00000   \n",
       "s__Akkermansia_muciniphila          0.00000     5.72219     0.01322   \n",
       "\n",
       "                                 TPMIC01015  ...  TPMIC03092  TPMIC03094  \\\n",
       "cluster                             1.00000  ...     1.00000     1.00000   \n",
       "Sex                                 1.00000  ...     1.00000     1.00000   \n",
       "s__Actinobaculum_massiliense        0.00000  ...     0.00000     0.00000   \n",
       "s__Actinobaculum_schaalii           0.00000  ...     0.00000     0.00000   \n",
       "s__Actinomyces_graevenitzii         0.00000  ...     0.00000     0.00000   \n",
       "...                                     ...  ...         ...         ...   \n",
       "s__Stenotrophomonas_maltophilia     0.00000  ...     0.00000     0.00000   \n",
       "s__Brachyspira_pilosicoli           0.00000  ...     0.00000     0.00000   \n",
       "s__Pyramidobacter_piscolens         0.00000  ...     0.00000     0.00000   \n",
       "s__Synergistes_sp_3_1_syn1          0.00000  ...     0.00000     0.00000   \n",
       "s__Akkermansia_muciniphila          0.02118  ...     0.00917     0.03157   \n",
       "\n",
       "                                 TPMIC03096  TPMIC03097  TPMIC03099  \\\n",
       "cluster                             3.00000     1.00000     4.00000   \n",
       "Sex                                 0.00000     0.00000     0.00000   \n",
       "s__Actinobaculum_massiliense        0.00000     0.00000     0.00000   \n",
       "s__Actinobaculum_schaalii           0.00000     0.00261     0.00000   \n",
       "s__Actinomyces_graevenitzii         0.00000     0.00000     0.00000   \n",
       "...                                     ...         ...         ...   \n",
       "s__Stenotrophomonas_maltophilia     0.00000     0.00000     0.00000   \n",
       "s__Brachyspira_pilosicoli           0.00000     0.00000     0.00000   \n",
       "s__Pyramidobacter_piscolens         0.00000     0.00000     0.00244   \n",
       "s__Synergistes_sp_3_1_syn1          0.00000     0.00000     0.00000   \n",
       "s__Akkermansia_muciniphila          1.67843     0.00310     0.02167   \n",
       "\n",
       "                                 TPMIC03104  TPMIC03121  TPMIC03125  \\\n",
       "cluster                             4.00000      3.0000     1.00000   \n",
       "Sex                                 0.00000      0.0000     0.00000   \n",
       "s__Actinobaculum_massiliense        0.00000      0.0000     0.00000   \n",
       "s__Actinobaculum_schaalii           0.00000      0.0000     0.00000   \n",
       "s__Actinomyces_graevenitzii         0.00000      0.0000     0.00135   \n",
       "...                                     ...         ...         ...   \n",
       "s__Stenotrophomonas_maltophilia     0.00000      0.0000     0.00000   \n",
       "s__Brachyspira_pilosicoli           0.00000      0.0000     0.00000   \n",
       "s__Pyramidobacter_piscolens         0.00000      0.0000     0.00000   \n",
       "s__Synergistes_sp_3_1_syn1          0.00000      0.0000     0.00000   \n",
       "s__Akkermansia_muciniphila          0.02933      3.2452     0.00121   \n",
       "\n",
       "                                 TPMIC03126  TPMIC03145  \n",
       "cluster                                 4.0         2.0  \n",
       "Sex                                     0.0         0.0  \n",
       "s__Actinobaculum_massiliense            0.0         0.0  \n",
       "s__Actinobaculum_schaalii               0.0         0.0  \n",
       "s__Actinomyces_graevenitzii             0.0         0.0  \n",
       "...                                     ...         ...  \n",
       "s__Stenotrophomonas_maltophilia         0.0         0.0  \n",
       "s__Brachyspira_pilosicoli               0.0         0.0  \n",
       "s__Pyramidobacter_piscolens             0.0         0.0  \n",
       "s__Synergistes_sp_3_1_syn1              0.0         0.0  \n",
       "s__Akkermansia_muciniphila              0.0         0.0  \n",
       "\n",
       "[439 rows x 108 columns]>"
      ]
     },
     "execution_count": 25,
     "metadata": {},
     "output_type": "execute_result"
    }
   ],
   "source": [
    "lefse_df.head"
   ]
  },
  {
   "cell_type": "code",
   "execution_count": null,
   "metadata": {},
   "outputs": [],
   "source": []
  }
 ],
 "metadata": {
  "kernelspec": {
   "display_name": "base",
   "language": "python",
   "name": "python3"
  },
  "language_info": {
   "codemirror_mode": {
    "name": "ipython",
    "version": 3
   },
   "file_extension": ".py",
   "mimetype": "text/x-python",
   "name": "python",
   "nbconvert_exporter": "python",
   "pygments_lexer": "ipython3",
   "version": "3.9.7"
  }
 },
 "nbformat": 4,
 "nbformat_minor": 2
}
