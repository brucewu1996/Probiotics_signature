{
 "cells": [
  {
   "cell_type": "code",
   "execution_count": 7,
   "metadata": {},
   "outputs": [],
   "source": [
    "import numpy as np \n",
    "import pandas as pd\n",
    "import re"
   ]
  },
  {
   "cell_type": "code",
   "execution_count": 5,
   "metadata": {},
   "outputs": [],
   "source": [
    "metaphlan = pd.read_csv(\"/home/bruce1996/data/MCI/metaphlan_result/metaphlan3_merge_table.txt\",sep='\\t',index_col=0)"
   ]
  },
  {
   "cell_type": "code",
   "execution_count": 16,
   "metadata": {},
   "outputs": [],
   "source": [
    "idx = [bool(re.search(\"Bifido|lactobacillus\",x)) for x in metaphlan.index]"
   ]
  },
  {
   "cell_type": "code",
   "execution_count": 17,
   "metadata": {},
   "outputs": [],
   "source": [
    "probiotics_matrix = metaphlan.loc[idx,:]\n",
    "probiotics_matrix.drop([\"NCBI_tax_id\"],axis=1,inplace=True)\n",
    "probiotics_matrix.index.name = None\n",
    "sample = []\n",
    "for s in probiotics_matrix.columns :\n",
    "    if \"-\" in s :\n",
    "        sample.append(s.split(\"-\")[0])\n",
    "    else :\n",
    "        sample.append(s.split(\"_\")[0])\n",
    "probiotics_matrix.columns = sample"
   ]
  },
  {
   "cell_type": "code",
   "execution_count": 25,
   "metadata": {},
   "outputs": [],
   "source": [
    "probiotics_matrix.to_csv(\"/home/bruce1996/data/MCI/manuscript_v3/supplement/probiotics_only_diversity/probiotics_metaphlan.txt\",sep='\\t')"
   ]
  },
  {
   "cell_type": "code",
   "execution_count": 26,
   "metadata": {},
   "outputs": [],
   "source": [
    "df = pd.read_csv(\"/home/bruce1996/data/MCI/manuscript_v3/supplement/probiotics_only_diversity/probiotics_unifrac_matrix.txt\",sep='\\t',index_col=0)"
   ]
  },
  {
   "cell_type": "code",
   "execution_count": 28,
   "metadata": {},
   "outputs": [],
   "source": [
    "metadata = pd.read_csv(\"/home/bruce1996/data/MCI/manuscript_v3/normal/consensus/mixed_clustering_without_rogosae.txt\",sep='\\t',index_col=0)"
   ]
  },
  {
   "cell_type": "code",
   "execution_count": 30,
   "metadata": {},
   "outputs": [
    {
     "data": {
      "text/plain": [
       "array([1, 2, 3, 4])"
      ]
     },
     "execution_count": 30,
     "metadata": {},
     "output_type": "execute_result"
    }
   ],
   "source": [
    "np.unique(metadata['cluster'].values)"
   ]
  },
  {
   "cell_type": "code",
   "execution_count": null,
   "metadata": {},
   "outputs": [],
   "source": []
  }
 ],
 "metadata": {
  "kernelspec": {
   "display_name": "base",
   "language": "python",
   "name": "python3"
  },
  "language_info": {
   "codemirror_mode": {
    "name": "ipython",
    "version": 3
   },
   "file_extension": ".py",
   "mimetype": "text/x-python",
   "name": "python",
   "nbconvert_exporter": "python",
   "pygments_lexer": "ipython3",
   "version": "3.9.7"
  },
  "orig_nbformat": 4
 },
 "nbformat": 4,
 "nbformat_minor": 2
}
