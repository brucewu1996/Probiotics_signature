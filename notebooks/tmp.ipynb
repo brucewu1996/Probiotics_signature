{
 "cells": [
  {
   "cell_type": "code",
   "execution_count": 18,
   "metadata": {},
   "outputs": [],
   "source": [
    "import numpy as np \n",
    "import pandas as pd\n",
    "import os,re"
   ]
  },
  {
   "cell_type": "code",
   "execution_count": 4,
   "metadata": {},
   "outputs": [],
   "source": [
    "df = pd.read_excel(\"/home/bruce1996/data/MCI/metadata/TPMIC_Diagnosis_297_KCF_0704.xlsx\")\n",
    "ab_matrix = pd.read_csv(\"/home/bruce1996/data/MCI/metaphlan_result/metaphlan_format_table.txt\",sep='\\t',index_col=0)"
   ]
  },
  {
   "cell_type": "code",
   "execution_count": 10,
   "metadata": {},
   "outputs": [],
   "source": [
    "mci_sample = df['ID'][np.where((df['Diagnosis'] == 'MCI') | (df['Diagnosis'] == 'Dementia'),True,False)]\n",
    "normal_sample = df['ID'][np.where(df['Diagnosis'] == 'Normal',True,False)]"
   ]
  },
  {
   "cell_type": "code",
   "execution_count": 14,
   "metadata": {},
   "outputs": [],
   "source": [
    "mci_matrix = ab_matrix.loc[:,mci_sample]\n",
    "normal_matrix = ab_matrix.loc[:,normal_sample]"
   ]
  },
  {
   "cell_type": "code",
   "execution_count": 26,
   "metadata": {},
   "outputs": [],
   "source": [
    "p = '/home/bruce1996/data/MCI/manuscript_v3.2/'\n",
    "output_path = {'mci' : p + 'mci/abundance_matrix/','normal' : p + 'normal/abundance_matrix/'}\n",
    "bifido_idx = [bool(re.search('Bifidobacterium',x)) for x in ab_matrix.index]\n",
    "lacto_idx = [bool(re.search('Lactobacillus',x)) for x in ab_matrix.index]\n",
    "\n",
    "for key,output_dir in output_path.items() :\n",
    "    if key == 'mci' :\n",
    "        if os.path.isdir(output_dir) == False :\n",
    "                os.mkdir(output_dir)\n",
    "        ab_matrix.loc[:,mci_sample].to_csv(output_dir + 'mci_abundance_matrix.txt',sep='\\t')\n",
    "        ab_matrix.loc[bifido_idx,mci_sample].to_csv(output_dir + 'mci_bifido_abundance_matrix.txt',sep='\\t')\n",
    "        ab_matrix.loc[lacto_idx,mci_sample].to_csv(output_dir + 'mci_lacto_abundance_matrix.txt',sep='\\t')\n",
    "    else :\n",
    "        if os.path.isdir(output_dir) == False :\n",
    "                os.mkdir(output_dir)\n",
    "        ab_matrix.loc[:,normal_sample].to_csv(output_dir + 'normal_abundance_matrix.txt',sep='\\t')\n",
    "        ab_matrix.loc[bifido_idx,normal_sample].to_csv(output_dir + 'normal_bifido_abundance_matrix.txt',sep='\\t')\n",
    "        ab_matrix.loc[lacto_idx,normal_sample].to_csv(output_dir + 'normal_lacto_abundance_matrix.txt',sep='\\t')"
   ]
  }
 ],
 "metadata": {
  "kernelspec": {
   "display_name": "base",
   "language": "python",
   "name": "python3"
  },
  "language_info": {
   "codemirror_mode": {
    "name": "ipython",
    "version": 3
   },
   "file_extension": ".py",
   "mimetype": "text/x-python",
   "name": "python",
   "nbconvert_exporter": "python",
   "pygments_lexer": "ipython3",
   "version": "3.9.7"
  },
  "orig_nbformat": 4
 },
 "nbformat": 4,
 "nbformat_minor": 2
}
